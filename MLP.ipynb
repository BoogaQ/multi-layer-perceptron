{
 "cells": [
  {
   "cell_type": "code",
   "execution_count": null,
   "metadata": {},
   "outputs": [],
   "source": [
    "import pandas as pd\n",
    "import numpy as np\n",
    "\n",
    "import tensorflow as tf\n",
    "from tensorflow import keras\n",
    "from sklearn.model_selection import train_test_split\n",
    "from sklearn.metrics import classification_report, plot_confusion_matrix\n",
    "\n",
    "import matplotlib.pyplot as plt\n",
    "import seaborn as sns\n",
    "\n",
    "import time\n",
    "%matplotlib inline"
   ]
  },
  {
   "cell_type": "code",
   "execution_count": 3,
   "metadata": {},
   "outputs": [],
   "source": [
    "(x_train, y_train), (x_test, y_test) = tf.keras.datasets.mnist.load_data()"
   ]
  },
  {
   "cell_type": "code",
   "execution_count": 4,
   "metadata": {},
   "outputs": [],
   "source": [
    "   \n",
    "def to_grey(data):\n",
    "    assert data.shape[-1] == 3072\n",
    "    return ((0.3 * data[:,:1024]) + (0.59 * data[:,1024:2048]) + (0.11 * data[:,2048:])) / 255\n",
    "    \n",
    "def flatten(data):\n",
    "    return np.reshape(data, (-1, np.prod(data.shape[1:])))\n",
    "\n",
    "def pre_process(x, y):\n",
    "    x = flatten(x[:10000]) / 255\n",
    "    y = y[:10000]\n",
    "    I = np.eye(len(np.unique(y)))\n",
    "    return x, np.squeeze(I[y])\n",
    "    "
   ]
  },
  {
   "cell_type": "code",
   "execution_count": 5,
   "metadata": {},
   "outputs": [],
   "source": [
    "x_train, y_train = pre_process(x_train, y_train)\n",
    "x_test, y_test = pre_process(x_test, y_test)"
   ]
  },
  {
   "cell_type": "code",
   "execution_count": 29,
   "metadata": {},
   "outputs": [],
   "source": [
    "class NeuralNetwork():\n",
    "\n",
    "    def __init__(self, in_nodes, h_nodes = 10, output_layer = 10, epochs = 10, lr = 0.1):\n",
    "        self.lr = lr\n",
    "        self.epochs = epochs + 1\n",
    "        self.W1 = np.random.randn(in_nodes, h_nodes) * 0.01\n",
    "        self.B1 = 0.1\n",
    "        self.W2 = np.random.randn(h_nodes, 10) * 0.01\n",
    "        self.B2 = 0.1\n",
    "        self.lambd = 0\n",
    "\n",
    "    def relu(self,z):\n",
    "        return z*(z>0) \n",
    "\n",
    "    def relu_prime(self, z):\n",
    "        return 1.0 *(z>0)\n",
    "\n",
    "    def cost(self, Y):\n",
    "        m = Y.shape[0]\n",
    "        cost = (1/m) * -(np.sum(np.multiply(np.log(self.A2), Y) + np.multiply((1-Y), np.log(1-self.A2))))\n",
    "        return cost\n",
    "    \n",
    "    def nllloss(self, Y, epsilon = 1e-12):\n",
    "        m = Y.shape[0]\n",
    "        Y = np.clip(Y, epsilon, 1. - epsilon)\n",
    "        log_pred_y = np.log(self.A2)\n",
    "        \n",
    "        l2_cost = 0\n",
    "        if self.lambd != 0:        \n",
    "            l2_cost = self.lambd * (np.sum(np.square(self.W1)) + np.sum(np.square(self.W2))) / (2 * m)\n",
    "        return -(Y*log_pred_y).mean() + l2_cost\n",
    "    \n",
    "    def softmax(self, x, axis=-1):\n",
    "        # when x is a 2 dimensional tensor\n",
    "        e = np.exp(x - np.max(x, axis=axis, keepdims=True))\n",
    "        s = np.sum(e, axis=axis, keepdims=True)\n",
    "        return e / s  \n",
    "\n",
    "    def forward(self, X):       \n",
    "        self.Z1 = np.dot(X, self.W1) + self.B1\n",
    "        self.A1 = self.relu(self.Z1) \n",
    "        self.Z2 = np.dot(self.A1, self.W2) + self.B2\n",
    "        self.A2 = self.softmax(self.Z2)\n",
    "        return self.A2\n",
    "    \n",
    "    def backprop(self, X, Y):\n",
    "        m = X.shape[0]        \n",
    "\n",
    "        dZ2 = self.A2 - Y\n",
    "        dW2 = (1/m) * (np.dot(self.A1.T, dZ2)) + (self.lambd * self.W2)/m\n",
    "        db2 = (1/m) * (np.sum(dZ2, axis = 0, keepdims = True))\n",
    "        dZ1 = np.dot(dZ2,self.W2.T) * self.relu_prime(self.A1)\n",
    "        dW1 = (1/m) * (np.dot(X.T, dZ1)) + (self.lambd * self.W1)/m\n",
    "        db1 = (1/m) * (np.sum(dZ1, axis = 0, keepdims = True))\n",
    "        \n",
    "\n",
    "        self.W2 = self.W2 - self.lr * dW2\n",
    "        self.B2 = self.B2 - self.lr * db2\n",
    "        self.W1 = self.W1 - self.lr * dW1\n",
    "        self.B1 = self.B1 - self.lr * db1\n",
    "    \n",
    "\n",
    "    def fit(self, X, Y, lambd):\n",
    "        self.lambd = lambd\n",
    "        for i in range(self.epochs):\n",
    "            x, y = self.batch(X, Y)\n",
    "            epoch_cost = 0\n",
    "            for batch_no in range(len(x)):\n",
    "                self.forward(x[batch_no])\n",
    "                self.backprop(x[batch_no], y[batch_no])\n",
    "                epoch_cost += (np.round(self.nllloss(y[batch_no]), 4))\n",
    "            self.forward(X)\n",
    "            cost = np.round(self.nllloss(Y), 4)\n",
    "            if i % 10 == 0:\n",
    "                print(\"Cost after\", i, \"epochs:\", cost, end=\".\\n\")\n",
    "                \n",
    "    def batch(self, X, Y, batch_size = 64):\n",
    "        x_batch = [x_train[i:i+batch_size,:] for i in range(0, len(x_train)-batch_size, batch_size)]\n",
    "        y_batch = [y_train[i:i+batch_size,:] for i in range(0, len(y_train)-batch_size, batch_size)]\n",
    "        return x_batch, y_batch\n",
    "          \n",
    "    def predict(self, X):\n",
    "        A2 = self.propagate(X)\n",
    "        return np.round(A2)    \n",
    "    \n",
    "    def __call__(self, X):\n",
    "        return self.propagate(X)"
   ]
  },
  {
   "cell_type": "code",
   "execution_count": 30,
   "metadata": {},
   "outputs": [],
   "source": [
    "net = NeuralNetwork(x_train.shape[1], epochs = 100, h_nodes = 100)"
   ]
  },
  {
   "cell_type": "code",
   "execution_count": 31,
   "metadata": {},
   "outputs": [
    {
     "name": "stdout",
     "output_type": "stream",
     "text": [
      "Cost after 0 epochs: 0.0619.\n",
      "Cost after 10 epochs: 0.0195.\n",
      "Cost after 20 epochs: 0.0131.\n",
      "Cost after 30 epochs: 0.0102.\n",
      "Cost after 40 epochs: 0.0086.\n",
      "Cost after 50 epochs: 0.0077.\n",
      "Cost after 60 epochs: 0.0071.\n",
      "Cost after 70 epochs: 0.0068.\n",
      "Cost after 80 epochs: 0.0065.\n",
      "Cost after 90 epochs: 0.0063.\n",
      "Cost after 100 epochs: 0.0062.\n"
     ]
    }
   ],
   "source": [
    "net.fit(x_train, y_train, lambd = 0.1)"
   ]
  },
  {
   "cell_type": "code",
   "execution_count": 27,
   "metadata": {},
   "outputs": [
    {
     "name": "stdout",
     "output_type": "stream",
     "text": [
      "Model accuracy: 0.9527\n"
     ]
    }
   ],
   "source": [
    "y_pred = np.argmax(net(x_test), axis = 1)\n",
    "y = np.argmax(y_test, axis = 1)\n",
    "print(\"Model accuracy: {}\".format((y_pred == y).mean()))"
   ]
  },
  {
   "cell_type": "code",
   "execution_count": 28,
   "metadata": {},
   "outputs": [
    {
     "name": "stdout",
     "output_type": "stream",
     "text": [
      "              precision    recall  f1-score   support\n",
      "\n",
      "           0       0.98      0.97      0.97       993\n",
      "           1       0.98      0.98      0.98      1136\n",
      "           2       0.95      0.95      0.95      1028\n",
      "           3       0.94      0.96      0.95       984\n",
      "           4       0.95      0.95      0.95       983\n",
      "           5       0.93      0.96      0.94       864\n",
      "           6       0.95      0.95      0.95       965\n",
      "           7       0.94      0.96      0.95      1008\n",
      "           8       0.96      0.90      0.93      1038\n",
      "           9       0.94      0.94      0.94      1001\n",
      "\n",
      "    accuracy                           0.95     10000\n",
      "   macro avg       0.95      0.95      0.95     10000\n",
      "weighted avg       0.95      0.95      0.95     10000\n",
      "\n"
     ]
    }
   ],
   "source": [
    "print(classification_report(y_pred.flatten(), y.flatten()))"
   ]
  }
 ],
 "metadata": {
  "kernelspec": {
   "display_name": "Python 3",
   "language": "python",
   "name": "python3"
  },
  "language_info": {
   "codemirror_mode": {
    "name": "ipython",
    "version": 3
   },
   "file_extension": ".py",
   "mimetype": "text/x-python",
   "name": "python",
   "nbconvert_exporter": "python",
   "pygments_lexer": "ipython3",
   "version": "3.7.6"
  }
 },
 "nbformat": 4,
 "nbformat_minor": 4
}
